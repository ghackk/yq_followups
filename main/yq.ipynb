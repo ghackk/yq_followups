{
 "cells": [
  {
   "cell_type": "code",
   "execution_count": null,
   "metadata": {},
   "outputs": [],
   "source": [
    "from selenium import webdriver\n",
    "from selenium.webdriver.chrome.options import Options\n",
    "from selenium.webdriver.support import expected_conditions as ec\n",
    "from selenium.webdriver.support.ui import WebDriverWait\n",
    "from selenium.webdriver.common.keys import Keys\n",
    "from selenium.webdriver.common.by import By\n",
    "import time"
   ]
  },
  {
   "cell_type": "code",
   "execution_count": null,
   "metadata": {},
   "outputs": [],
   "source": [
    "opt=Options()\n",
    "options =webdriver.ChromeOptions()\n",
    "#options.add_argument('--headless')\n",
    "opt.add_experimental_option(\"debuggerAddress\",\"localhost:8080\")"
   ]
  },
  {
   "cell_type": "code",
   "execution_count": null,
   "metadata": {},
   "outputs": [],
   "source": [
    "driver = webdriver.Chrome(executable_path=\"C:\\Program Files (x86)\\chromedriver.exe\",options=options)\n"
   ]
  },
  {
   "cell_type": "code",
   "execution_count": null,
   "metadata": {},
   "outputs": [],
   "source": [
    "driver.maximize_window()"
   ]
  },
  {
   "cell_type": "code",
   "execution_count": null,
   "metadata": {},
   "outputs": [],
   "source": [
    "driver.get(\"https://www.yourquote.in\")"
   ]
  },
  {
   "cell_type": "code",
   "execution_count": null,
   "metadata": {},
   "outputs": [],
   "source": [
    "signin = driver.find_element_by_xpath('//*[@id=\"app\"]/div[3]/div/nav/div/div/div[4]/div/div[5]/div/div/div')\n",
    "signin.click()\n",
    "window_before = driver.window_handles[0]\n",
    "wait = WebDriverWait(driver,2500)"
   ]
  },
  {
   "cell_type": "code",
   "execution_count": null,
   "metadata": {},
   "outputs": [],
   "source": [
    "fb = driver.find_element_by_xpath('//*[@id=\"app\"]/div[2]/div/div/div[1]/div/div[2]/div[2]/div')\n",
    "fb.click()\n",
    "wait = WebDriverWait(driver,2500)"
   ]
  },
  {
   "cell_type": "code",
   "execution_count": null,
   "metadata": {},
   "outputs": [],
   "source": [
    "window_after = driver.window_handles[1]\n",
    "driver.switch_to.window(window_after)\n",
    "wait = WebDriverWait(driver,1000)\n",
    "driver.find_element(By.CSS_SELECTOR,\"#email\").send_keys(\"gyaneshkumar6520@gmail.com\")\n",
    "driver.find_element(By.CSS_SELECTOR,\"#pass\").send_keys(\"workingclass\")"
   ]
  },
  {
   "cell_type": "code",
   "execution_count": null,
   "metadata": {
    "scrolled": true
   },
   "outputs": [],
   "source": [
    "login = driver.find_element_by_xpath('//*[@id=\"loginbutton\"]')\n",
    "# hindi //input[@value=\"Log In\"] In\"] english\n",
    "login.click()\n",
    "time.sleep(3)\n",
    "driver.switch_to.window(window_before)"
   ]
  },
  {
   "cell_type": "code",
   "execution_count": null,
   "metadata": {},
   "outputs": [],
   "source": [
    "time.sleep(5)\n",
    "popup1 = driver.find_element_by_css_selector('#app > div.application--wrap > div > div.layout.card-shadow.hidden-sm-and-down.bg-c-c0.text-xs-center.anchor-ad.justify-center.align-center > div')\n",
    "popup1.click()"
   ]
  },
  {
   "cell_type": "code",
   "execution_count": null,
   "metadata": {
    "scrolled": true
   },
   "outputs": [],
   "source": [
    "for c in range (100):\n",
    "    heading=[]\n",
    "    heading = driver.find_elements_by_xpath('//div[@class=\"v-tabs__div m-l-2x m-r-2x\"]')\n",
    "    for h in heading :\n",
    "        h.click()\n",
    "        time.sleep(5)\n",
    "        for i in range(10):\n",
    "            like=[]\n",
    "            like = driver.find_elements_by_xpath('//div[@class=\"sprite-icon-favourite sprite-icon-size-4\"]')\n",
    "            for l in like:\n",
    "                l.click()\n",
    "                time.sleep(0.2)\n",
    "            driver.find_element_by_tag_name('body').send_keys(Keys.CONTROL + Keys.HOME)\n",
    "            driver.find_element_by_tag_name('body').send_keys(Keys.CONTROL + Keys.HOME)\n",
    "        #follow=[]\n",
    "        #follow = driver.find_elements_by_xpath('//span[@class=\"fw-6\"]')\n",
    "        #for e in follow:\n",
    "         #   e.click()\n",
    "        #time.sleep(0.5)\n",
    "        #driver.find_element_by_tag_name('body').send_keys(Keys.CONTROL + Keys.HOME)      \n",
    "        #driver.find_element_by_tag_name('body').send_keys(Keys.CONTROL + Keys.HOME)  \n",
    "    driver.refresh()\n",
    "    time.sleep(10)\n",
    "    popup1 = driver.find_element_by_css_selector('#app > div.application--wrap > div > div.layout.card-shadow.hidden-sm-and-down.bg-c-c0.text-xs-center.anchor-ad.justify-center.align-center > div')\n",
    "    popup1.click()"
   ]
  },
  {
   "cell_type": "code",
   "execution_count": null,
   "metadata": {},
   "outputs": [],
   "source": [
    "time.sleep(5)\n",
    "popup1 = driver.find_element_by_css_selector('#app > div.application--wrap > div > div.layout.card-shadow.hidden-sm-and-down.bg-c-c0.text-xs-center.anchor-ad.justify-center.align-center > div')\n",
    "popup1.click()"
   ]
  }
 ],
 "metadata": {
  "interpreter": {
   "hash": "88fdd4b571e912d60bd1d4a98c7c286f24f5419aee8b841690e59836ace4e083"
  },
  "kernelspec": {
   "name": "python3",
   "display_name": "Python 3.9.0 64-bit"
  },
  "language_info": {
   "codemirror_mode": {
    "name": "ipython",
    "version": 3
   },
   "file_extension": ".py",
   "mimetype": "text/x-python",
   "name": "python",
   "nbconvert_exporter": "python",
   "pygments_lexer": "ipython3",
   "version": "3.9.0"
  }
 },
 "nbformat": 4,
 "nbformat_minor": 2
}